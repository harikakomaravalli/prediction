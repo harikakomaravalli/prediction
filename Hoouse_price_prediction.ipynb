{
 "cells": [
  {
   "cell_type": "code",
   "execution_count": 2,
   "id": "b993e9a5",
   "metadata": {},
   "outputs": [],
   "source": [
    "#IMPORTING REQUIRED LIBRARIES FOR WEB SCRAPING\n",
    "import requests\n",
    "from bs4 import BeautifulSoup\n",
    "from IPython.display import clear_output\n",
    "import time\n",
    "import numpy as np\n",
    "import pandas as pd\n",
    "import re"
   ]
  },
  {
   "cell_type": "code",
   "execution_count": 2,
   "id": "2d1ba9e3",
   "metadata": {},
   "outputs": [
    {
     "data": {
      "text/plain": [
       "<Response [200]>"
      ]
     },
     "execution_count": 2,
     "metadata": {},
     "output_type": "execute_result"
    }
   ],
   "source": [
    "#checking url status\n",
    "url = 'https://www.makaan.com/vijayawada-residential-property/buy-property-in-vijayawada-city?propertyType=apartment,builder-floor,villa,residential-plot,independent-house,studio-apartment'\n",
    "data = requests.get(url)\n",
    "data"
   ]
  },
  {
   "cell_type": "code",
   "execution_count": 3,
   "id": "aa7ba608",
   "metadata": {},
   "outputs": [],
   "source": [
    "#getting content from html\n",
    "soup = BeautifulSoup(data.content,'html')"
   ]
  },
  {
   "cell_type": "code",
   "execution_count": 4,
   "id": "215df087",
   "metadata": {},
   "outputs": [
    {
     "data": {
      "text/plain": [
       "'3 '"
      ]
     },
     "execution_count": 4,
     "metadata": {},
     "output_type": "execute_result"
    }
   ],
   "source": [
    "soup.find('a',attrs={'class':'typelink'}).span.text"
   ]
  },
  {
   "cell_type": "markdown",
   "id": "3815852c",
   "metadata": {},
   "source": [
    "# SCRAPING DATA FROM SINGLE PAGE"
   ]
  },
  {
   "cell_type": "code",
   "execution_count": 5,
   "id": "b95fca3a",
   "metadata": {},
   "outputs": [
    {
     "data": {
      "text/plain": [
       "['3',\n",
       " '2',\n",
       " '2',\n",
       " '2',\n",
       " '2',\n",
       " '2',\n",
       " '3',\n",
       " '3',\n",
       " '3',\n",
       " '2',\n",
       " '2',\n",
       " '3',\n",
       " '6',\n",
       " '0',\n",
       " '0',\n",
       " '0',\n",
       " '3',\n",
       " '3',\n",
       " '2',\n",
       " '3']"
      ]
     },
     "execution_count": 5,
     "metadata": {},
     "output_type": "execute_result"
    }
   ],
   "source": [
    "#getting Bedrooms\n",
    "a = soup.find_all('a',attrs={'class':'typelink'})\n",
    "Bedroom = []\n",
    "for i in a:\n",
    "  i = i.span.text\n",
    "  i = i.replace('Residential Plot', '0').replace(' ', '')\n",
    "  Bedroom.append(i)\n",
    "Bedroom"
   ]
  },
  {
   "cell_type": "code",
   "execution_count": 6,
   "id": "c1c0bd40",
   "metadata": {},
   "outputs": [
    {
     "data": {
      "text/plain": [
       "'Poranki'"
      ]
     },
     "execution_count": 6,
     "metadata": {},
     "output_type": "execute_result"
    }
   ],
   "source": [
    "soup.find('span',attrs={'itemprop':'addressLocality'}).text"
   ]
  },
  {
   "cell_type": "code",
   "execution_count": 7,
   "id": "567f623d",
   "metadata": {},
   "outputs": [
    {
     "data": {
      "text/plain": [
       "['Poranki',\n",
       " 'Poranki',\n",
       " 'Kankipadu',\n",
       " 'PNT Colony',\n",
       " 'Labbipet',\n",
       " 'Poranki',\n",
       " 'Gannavaram',\n",
       " 'Gunadala',\n",
       " 'Gollapudi',\n",
       " 'Enikepadu',\n",
       " 'Benz Circle',\n",
       " 'Vidhyadharpuram',\n",
       " 'Penamaluru',\n",
       " 'Kankipadu',\n",
       " 'Poranki',\n",
       " 'Kankipadu',\n",
       " 'Benz Circle',\n",
       " 'Gannavaram',\n",
       " 'Payakapuram',\n",
       " 'Benz Circle']"
      ]
     },
     "execution_count": 7,
     "metadata": {},
     "output_type": "execute_result"
    }
   ],
   "source": [
    "#getting location\n",
    "b = soup.find_all('span',attrs={'itemprop':'addressLocality'})\n",
    "Location = [i.text for i in b]\n",
    "Location"
   ]
  },
  {
   "cell_type": "code",
   "execution_count": 8,
   "id": "e1826db3",
   "metadata": {},
   "outputs": [
    {
     "data": {
      "text/plain": [
       "' 55.5 L'"
      ]
     },
     "execution_count": 8,
     "metadata": {},
     "output_type": "execute_result"
    }
   ],
   "source": [
    "soup.find('div',attrs={'data-type':'price-link'}).text"
   ]
  },
  {
   "cell_type": "code",
   "execution_count": 9,
   "id": "73f9550c",
   "metadata": {},
   "outputs": [
    {
     "data": {
      "text/plain": [
       "[55.5,\n",
       " 48.0,\n",
       " 50.0,\n",
       " 72.0,\n",
       " 60.0,\n",
       " 40.0,\n",
       " 59.86,\n",
       " 56.0,\n",
       " 89.0,\n",
       " 39.0,\n",
       " 59.0,\n",
       " 95.0,\n",
       " 110.00000000000001,\n",
       " 16.83,\n",
       " 33.0,\n",
       " 20.0,\n",
       " 166.0,\n",
       " 72.0,\n",
       " 56.0,\n",
       " 166.0]"
      ]
     },
     "execution_count": 9,
     "metadata": {},
     "output_type": "execute_result"
    }
   ],
   "source": [
    "#getting price\n",
    "c = soup.find_all('div', attrs={'data-type': 'price-link'})\n",
    "\n",
    "Price = []\n",
    "for i in c:\n",
    "    i = i.text.strip()  # Strip leading/trailing whitespaces\n",
    "    if 'Cr' in i:\n",
    "        i = i.replace(' Cr', '')  # Remove 'Cr' from the string\n",
    "        i = float(i) * 100  # Convert value from crores to lakhs\n",
    "    else:\n",
    "        i = i.replace(' L', '')  # Remove 'L' from the string\n",
    "        i = float(i)\n",
    "    Price.append(i)\n",
    "Price"
   ]
  },
  {
   "cell_type": "code",
   "execution_count": 10,
   "id": "4a184825",
   "metadata": {},
   "outputs": [
    {
     "data": {
      "text/plain": [
       "'1587 '"
      ]
     },
     "execution_count": 10,
     "metadata": {},
     "output_type": "execute_result"
    }
   ],
   "source": [
    "soup.find('td',attrs={'class':'size'}).text"
   ]
  },
  {
   "cell_type": "code",
   "execution_count": 11,
   "id": "579e8302",
   "metadata": {},
   "outputs": [
    {
     "data": {
      "text/plain": [
       "['1587',\n",
       " '1450',\n",
       " '1290',\n",
       " '1400',\n",
       " '950',\n",
       " '1200',\n",
       " '1663',\n",
       " '1500',\n",
       " '2062',\n",
       " '1250',\n",
       " '1350',\n",
       " '1600',\n",
       " '3700',\n",
       " '1782',\n",
       " '1800',\n",
       " '1500',\n",
       " '2317',\n",
       " '1650',\n",
       " '1000',\n",
       " '2317']"
      ]
     },
     "execution_count": 11,
     "metadata": {},
     "output_type": "execute_result"
    }
   ],
   "source": [
    "#getting area\n",
    "d = soup.find_all('td',attrs={'class':'size'})\n",
    "\n",
    "area = []\n",
    "for i in d:\n",
    "  i = i.text\n",
    "  i = i.replace(' ', '')\n",
    "  area.append(i)\n",
    "area"
   ]
  },
  {
   "cell_type": "code",
   "execution_count": 12,
   "id": "1dec98fc",
   "metadata": {},
   "outputs": [
    {
     "data": {
      "text/plain": [
       "'Ready to move'"
      ]
     },
     "execution_count": 12,
     "metadata": {},
     "output_type": "execute_result"
    }
   ],
   "source": [
    "soup.find('td',attrs={'class':'val'}).text"
   ]
  },
  {
   "cell_type": "code",
   "execution_count": 13,
   "id": "838849dc",
   "metadata": {},
   "outputs": [
    {
     "data": {
      "text/plain": [
       "['Ready to move',\n",
       " 'Ready to move',\n",
       " 'Under Construction',\n",
       " 'Ready to move',\n",
       " 'Ready to move',\n",
       " 'Ready to move',\n",
       " 'Ready to move',\n",
       " 'Ready to move',\n",
       " 'Ready to move',\n",
       " 'Ready to move',\n",
       " 'Ready to move',\n",
       " 'Under Construction',\n",
       " 'Ready to move',\n",
       " 'Resale',\n",
       " 'Resale',\n",
       " 'Resale',\n",
       " 'Under Construction',\n",
       " 'Ready to move',\n",
       " 'Ready to move',\n",
       " 'Under Construction']"
      ]
     },
     "execution_count": 13,
     "metadata": {},
     "output_type": "execute_result"
    }
   ],
   "source": [
    "#getting product name\n",
    "e = soup.find_all('td',attrs={'class':'val'})\n",
    "\n",
    "status = []\n",
    "for i in e:\n",
    "  i = i.text\n",
    "  status.append(i)\n",
    "status"
   ]
  },
  {
   "cell_type": "code",
   "execution_count": 14,
   "id": "07cfa53c",
   "metadata": {},
   "outputs": [
    {
     "data": {
      "text/plain": [
       "'3 BathroomsResale West facing'"
      ]
     },
     "execution_count": 14,
     "metadata": {},
     "output_type": "execute_result"
    }
   ],
   "source": [
    "soup.find('ul',attrs={'class':'listing-details'}).text"
   ]
  },
  {
   "cell_type": "code",
   "execution_count": 15,
   "id": "b57eed9d",
   "metadata": {},
   "outputs": [
    {
     "data": {
      "text/plain": [
       "['3 BathroomsResale West facing',\n",
       " '2 BathroomsResale ',\n",
       " '2 BathroomsResale NorthEast facing',\n",
       " '4 - 5 years old4 BathroomsResale ',\n",
       " '2 BathroomsResale East facing',\n",
       " '2 BathroomsResale ',\n",
       " '3 BathroomsResale East facing',\n",
       " '3 BathroomsResale ',\n",
       " '3 BathroomsResale ',\n",
       " '2 BathroomsResale ',\n",
       " '2 BathroomsResale East facing',\n",
       " '3 BathroomsResale West facing',\n",
       " '6 - 7 years old7 BathroomsResale ',\n",
       " '1 - 2 years old',\n",
       " '1 open sidesWest facing',\n",
       " '6 - 7 years old',\n",
       " '3 BathroomsNew East facing',\n",
       " '2 - 3 years old3 BathroomsNew ',\n",
       " '5 years old2 BathroomsNew ',\n",
       " '3 BathroomsNew East facing']"
      ]
     },
     "execution_count": 15,
     "metadata": {},
     "output_type": "execute_result"
    }
   ],
   "source": [
    "#getting details\n",
    "f = soup.find_all('ul',attrs={'class':'listing-details'})\n",
    "\n",
    "details = []\n",
    "for i in f:\n",
    "  i = i.text\n",
    "  details.append(i)\n",
    "details"
   ]
  },
  {
   "cell_type": "code",
   "execution_count": 16,
   "id": "e5aa17c7",
   "metadata": {},
   "outputs": [],
   "source": [
    "g = soup.find_all('ul', attrs={'class': 'listing-details'})\n",
    "\n",
    "Bathroom = []\n",
    "Facing = []\n",
    "\n",
    "for i in g:\n",
    "    i = i.text\n",
    "    bathroom_count = re.findall(r'(\\d+) Bathrooms', i)\n",
    "    if bathroom_count:\n",
    "        Bathroom.append(int(bathroom_count[0]))\n",
    "    else:\n",
    "        Bathroom.append(0)\n",
    "        \n",
    "    facing_direction = re.findall(r'(North|South|East|West|NorthEast|NorthWest|SouthEast|SouthWest) facing', i)\n",
    "    if facing_direction:\n",
    "        Facing.append(facing_direction[0])\n",
    "    else:\n",
    "        Facing.append(0)"
   ]
  },
  {
   "cell_type": "code",
   "execution_count": 17,
   "id": "f17c55b9",
   "metadata": {},
   "outputs": [
    {
     "data": {
      "text/plain": [
       "[3, 2, 2, 4, 2, 2, 3, 3, 3, 2, 2, 3, 7, 0, 0, 0, 3, 3, 2, 3]"
      ]
     },
     "execution_count": 17,
     "metadata": {},
     "output_type": "execute_result"
    }
   ],
   "source": [
    "Bathroom"
   ]
  },
  {
   "cell_type": "code",
   "execution_count": 18,
   "id": "85468039",
   "metadata": {},
   "outputs": [
    {
     "data": {
      "text/plain": [
       "['West',\n",
       " 0,\n",
       " 'NorthEast',\n",
       " 0,\n",
       " 'East',\n",
       " 0,\n",
       " 'East',\n",
       " 0,\n",
       " 0,\n",
       " 0,\n",
       " 'East',\n",
       " 'West',\n",
       " 0,\n",
       " 0,\n",
       " 'West',\n",
       " 0,\n",
       " 'East',\n",
       " 0,\n",
       " 0,\n",
       " 'East']"
      ]
     },
     "execution_count": 18,
     "metadata": {},
     "output_type": "execute_result"
    }
   ],
   "source": [
    "Facing"
   ]
  },
  {
   "cell_type": "code",
   "execution_count": 19,
   "id": "ae2f5fe7",
   "metadata": {},
   "outputs": [
    {
     "data": {
      "text/plain": [
       "'3 BHK Apartment'"
      ]
     },
     "execution_count": 19,
     "metadata": {},
     "output_type": "execute_result"
    }
   ],
   "source": [
    "soup.find('div',attrs={'class':'title-line'}).text"
   ]
  },
  {
   "cell_type": "code",
   "execution_count": 20,
   "id": "e67e35a5",
   "metadata": {
    "scrolled": true
   },
   "outputs": [
    {
     "data": {
      "text/plain": [
       "['3 BHK Apartment',\n",
       " '2 BHK Apartment',\n",
       " '2 BHK Independent House',\n",
       " '2 BHK Independent House',\n",
       " '2 BHK Apartment',\n",
       " '2 BHK Apartment in Hycon Elite',\n",
       " '3 BHK Apartment',\n",
       " '3 BHK Independent Floor',\n",
       " '3 BHK Apartment',\n",
       " '2 BHK Apartment',\n",
       " '2 BHK Independent House',\n",
       " '3 BHK Independent Floor',\n",
       " '6 BHK Independent House',\n",
       " 'Residential Plot in Harivillu Fortune Legendary',\n",
       " 'Residential Plot',\n",
       " 'Residential Plot',\n",
       " '3 BHK Apartment in Pooja Tree Storey',\n",
       " '3 BHK Apartment in Sri Naga Sun Rise Enclave',\n",
       " '2 BHK Independent House',\n",
       " '3 BHK Apartment in Pooja Tree Storey']"
      ]
     },
     "execution_count": 20,
     "metadata": {},
     "output_type": "execute_result"
    }
   ],
   "source": [
    "#getting title\n",
    "h = soup.find_all('div',attrs={'class':'title-line'})\n",
    "\n",
    "title = []\n",
    "for i in h:\n",
    "  i = i.text\n",
    "  title.append(i)\n",
    "title"
   ]
  },
  {
   "cell_type": "code",
   "execution_count": 21,
   "id": "490e09a8",
   "metadata": {},
   "outputs": [
    {
     "data": {
      "text/plain": [
       "['Apartment',\n",
       " 'Apartment',\n",
       " 'Independent House',\n",
       " 'Independent House',\n",
       " 'Apartment',\n",
       " 'Apartment',\n",
       " 'Apartment',\n",
       " 'Apartment',\n",
       " 'Apartment',\n",
       " 'Independent House',\n",
       " 'Independent House',\n",
       " 'Residential Plot',\n",
       " 'Residential Plot',\n",
       " 'Residential Plot',\n",
       " 'Apartment',\n",
       " 'Apartment',\n",
       " 'Independent House',\n",
       " 'Apartment']"
      ]
     },
     "execution_count": 21,
     "metadata": {},
     "output_type": "execute_result"
    }
   ],
   "source": [
    "k = soup.find_all('div', attrs={'class': 'title-line'})\n",
    "\n",
    "property_types = ['Apartment', 'Builder Floor', 'Villa', 'Residential Plot', 'Independent House', 'Studio Apartment']\n",
    "Type = []\n",
    "\n",
    "for i in k:\n",
    "    i = i.text\n",
    "    for p_type in property_types:\n",
    "        if p_type in i:\n",
    "            Type.append(p_type)\n",
    "\n",
    "Type"
   ]
  },
  {
   "cell_type": "markdown",
   "id": "addf8169",
   "metadata": {},
   "source": [
    "# #SCRAPING DATA FROM MULTIPLE PAGES"
   ]
  },
  {
   "cell_type": "code",
   "execution_count": 22,
   "id": "2c48e473",
   "metadata": {},
   "outputs": [
    {
     "name": "stdout",
     "output_type": "stream",
     "text": [
      "Scraping info from page 62 \n"
     ]
    }
   ],
   "source": [
    "Bedroom = []\n",
    "Location = []\n",
    "Price = []\n",
    "area = []\n",
    "Status = []\n",
    "Bathroom = []\n",
    "Facing = []\n",
    "Type = []\n",
    "property_types = ['Apartment', 'Builder Floor', 'Villa', 'Residential Plot', 'Independent House', 'Studio Apartment']\n",
    "\n",
    "for i in range(1,63):\n",
    "  url = url+str(i)\n",
    "\n",
    "  print(f'Scraping info from page {i} ')\n",
    "  clear_output(wait=True)\n",
    "\n",
    "  #we are pausing for 3 sec\n",
    "  time.sleep(3)\n",
    "  response = requests.get(url)\n",
    "  soup = BeautifulSoup(response.text,'html')\n",
    "\n",
    "  a = soup.find_all('a',attrs={'class':'typelink'})\n",
    "  for i in a:\n",
    "    i = i.span.text\n",
    "    i = i.replace('Residential Plot', '0').replace(' ', '')\n",
    "    Bedroom.append(i)\n",
    "\n",
    "  b = soup.find_all('span',attrs={'itemprop':'addressLocality'})\n",
    "  for i in b:\n",
    "    Location.append(i.text)\n",
    "\n",
    "  c = soup.find_all('div', attrs={'data-type': 'price-link'})\n",
    "  for i in c:\n",
    "      i = i.text.strip()  # Strip leading/trailing whitespaces\n",
    "      if 'Cr' in i:\n",
    "          i = i.replace(' Cr', '')  # Remove 'Cr' from the string\n",
    "          i = float(i) * 100  # Convert value from crores to lakhs\n",
    "      else:\n",
    "          i = i.replace(' L', '')  # Remove 'L' from the string\n",
    "          i = float(i)\n",
    "      Price.append(i)\n",
    "\n",
    "  d = soup.find_all('td',attrs={'class':'size'})\n",
    "  for i in d:\n",
    "    i = i.text\n",
    "    i = i.replace(' ', '')\n",
    "    area.append(i)\n",
    "\n",
    "  e = soup.find_all('td',attrs={'class':'val'})\n",
    "  for i in e:\n",
    "    i = i.text\n",
    "    status.append(i)\n",
    "\n",
    "  g = soup.find_all('ul', attrs={'class': 'listing-details'})\n",
    "  for i in g:\n",
    "      i = i.text\n",
    "      bathroom_count = re.findall(r'(\\d+) Bathrooms', i)\n",
    "      if bathroom_count:\n",
    "          Bathroom.append(int(bathroom_count[0]))\n",
    "      else:\n",
    "          Bathroom.append('0')\n",
    "\n",
    "      facing_direction = re.findall(r'(North|South|East|West|NorthEast|NorthWest|SouthEast|SouthWest) facing', i)\n",
    "      if facing_direction:\n",
    "          Facing.append(facing_direction[0])\n",
    "      else:\n",
    "          Facing.append('0')\n",
    "\n",
    "  k = soup.find_all('div', attrs={'class': 'title-line'})\n",
    "  for i in k:\n",
    "      i = i.text\n",
    "      for p_type in property_types:\n",
    "          if p_type in i:\n",
    "              Type.append(p_type)"
   ]
  },
  {
   "cell_type": "markdown",
   "id": "27018dab",
   "metadata": {},
   "source": [
    "#GETTING LENGTH OF THE ELEMENTS"
   ]
  },
  {
   "cell_type": "code",
   "execution_count": 23,
   "id": "8ab37f92",
   "metadata": {},
   "outputs": [
    {
     "name": "stdout",
     "output_type": "stream",
     "text": [
      "1240\n",
      "1240\n",
      "1240\n",
      "1240\n",
      "1260\n",
      "1240\n",
      "1240\n",
      "1116\n"
     ]
    }
   ],
   "source": [
    "print(len(Bedroom))\n",
    "print(len(Location))\n",
    "print(len(Price))\n",
    "print(len(area))\n",
    "print(len(status))\n",
    "print(len(Bathroom))\n",
    "print(len(Facing))\n",
    "print(len(Type))"
   ]
  },
  {
   "cell_type": "code",
   "execution_count": 24,
   "id": "71742bfe",
   "metadata": {},
   "outputs": [],
   "source": [
    "#Resampling\n",
    "Bedroom = Bedroom[:1100]\n",
    "Location = Location[:1100]\n",
    "Price = Price[:1100]\n",
    "area = area[:1100]\n",
    "status = status[:1100]\n",
    "Bathroom = Bathroom[:1100]\n",
    "Facing = Facing[:1100]\n",
    "Type = Type[:1100]"
   ]
  },
  {
   "cell_type": "code",
   "execution_count": 136,
   "id": "ec6a059b",
   "metadata": {},
   "outputs": [
    {
     "data": {
      "text/html": [
       "<div>\n",
       "<style scoped>\n",
       "    .dataframe tbody tr th:only-of-type {\n",
       "        vertical-align: middle;\n",
       "    }\n",
       "\n",
       "    .dataframe tbody tr th {\n",
       "        vertical-align: top;\n",
       "    }\n",
       "\n",
       "    .dataframe thead th {\n",
       "        text-align: right;\n",
       "    }\n",
       "</style>\n",
       "<table border=\"1\" class=\"dataframe\">\n",
       "  <thead>\n",
       "    <tr style=\"text-align: right;\">\n",
       "      <th></th>\n",
       "      <th>Bedroom</th>\n",
       "      <th>Bathroom</th>\n",
       "      <th>Location</th>\n",
       "      <th>area</th>\n",
       "      <th>status</th>\n",
       "      <th>Facing</th>\n",
       "      <th>Type</th>\n",
       "      <th>Price</th>\n",
       "    </tr>\n",
       "  </thead>\n",
       "  <tbody>\n",
       "    <tr>\n",
       "      <th>0</th>\n",
       "      <td>3</td>\n",
       "      <td>3</td>\n",
       "      <td>Poranki</td>\n",
       "      <td>1587</td>\n",
       "      <td>Ready to move</td>\n",
       "      <td>West</td>\n",
       "      <td>Apartment</td>\n",
       "      <td>55.5</td>\n",
       "    </tr>\n",
       "    <tr>\n",
       "      <th>1</th>\n",
       "      <td>2</td>\n",
       "      <td>2</td>\n",
       "      <td>Poranki</td>\n",
       "      <td>1450</td>\n",
       "      <td>Ready to move</td>\n",
       "      <td>0</td>\n",
       "      <td>Apartment</td>\n",
       "      <td>48.0</td>\n",
       "    </tr>\n",
       "    <tr>\n",
       "      <th>2</th>\n",
       "      <td>2</td>\n",
       "      <td>2</td>\n",
       "      <td>Kankipadu</td>\n",
       "      <td>1290</td>\n",
       "      <td>Under Construction</td>\n",
       "      <td>NorthEast</td>\n",
       "      <td>Independent House</td>\n",
       "      <td>50.0</td>\n",
       "    </tr>\n",
       "    <tr>\n",
       "      <th>3</th>\n",
       "      <td>2</td>\n",
       "      <td>4</td>\n",
       "      <td>PNT Colony</td>\n",
       "      <td>1400</td>\n",
       "      <td>Ready to move</td>\n",
       "      <td>0</td>\n",
       "      <td>Independent House</td>\n",
       "      <td>72.0</td>\n",
       "    </tr>\n",
       "    <tr>\n",
       "      <th>4</th>\n",
       "      <td>2</td>\n",
       "      <td>2</td>\n",
       "      <td>Labbipet</td>\n",
       "      <td>950</td>\n",
       "      <td>Ready to move</td>\n",
       "      <td>East</td>\n",
       "      <td>Apartment</td>\n",
       "      <td>60.0</td>\n",
       "    </tr>\n",
       "    <tr>\n",
       "      <th>...</th>\n",
       "      <td>...</td>\n",
       "      <td>...</td>\n",
       "      <td>...</td>\n",
       "      <td>...</td>\n",
       "      <td>...</td>\n",
       "      <td>...</td>\n",
       "      <td>...</td>\n",
       "      <td>...</td>\n",
       "    </tr>\n",
       "    <tr>\n",
       "      <th>1095</th>\n",
       "      <td>0</td>\n",
       "      <td>0</td>\n",
       "      <td>Kankipadu</td>\n",
       "      <td>1500</td>\n",
       "      <td>Resale</td>\n",
       "      <td>0</td>\n",
       "      <td>Apartment</td>\n",
       "      <td>20.0</td>\n",
       "    </tr>\n",
       "    <tr>\n",
       "      <th>1096</th>\n",
       "      <td>3</td>\n",
       "      <td>3</td>\n",
       "      <td>Benz Circle</td>\n",
       "      <td>2317</td>\n",
       "      <td>Under Construction</td>\n",
       "      <td>East</td>\n",
       "      <td>Independent House</td>\n",
       "      <td>166.0</td>\n",
       "    </tr>\n",
       "    <tr>\n",
       "      <th>1097</th>\n",
       "      <td>3</td>\n",
       "      <td>3</td>\n",
       "      <td>Gannavaram</td>\n",
       "      <td>1650</td>\n",
       "      <td>Ready to move</td>\n",
       "      <td>0</td>\n",
       "      <td>Apartment</td>\n",
       "      <td>72.0</td>\n",
       "    </tr>\n",
       "    <tr>\n",
       "      <th>1098</th>\n",
       "      <td>2</td>\n",
       "      <td>2</td>\n",
       "      <td>Payakapuram</td>\n",
       "      <td>1000</td>\n",
       "      <td>Ready to move</td>\n",
       "      <td>0</td>\n",
       "      <td>Apartment</td>\n",
       "      <td>56.0</td>\n",
       "    </tr>\n",
       "    <tr>\n",
       "      <th>1099</th>\n",
       "      <td>3</td>\n",
       "      <td>3</td>\n",
       "      <td>Benz Circle</td>\n",
       "      <td>2317</td>\n",
       "      <td>Under Construction</td>\n",
       "      <td>East</td>\n",
       "      <td>Apartment</td>\n",
       "      <td>166.0</td>\n",
       "    </tr>\n",
       "  </tbody>\n",
       "</table>\n",
       "<p>1100 rows × 8 columns</p>\n",
       "</div>"
      ],
      "text/plain": [
       "     Bedroom Bathroom     Location  area              status     Facing  \\\n",
       "0          3        3      Poranki  1587       Ready to move       West   \n",
       "1          2        2      Poranki  1450       Ready to move          0   \n",
       "2          2        2    Kankipadu  1290  Under Construction  NorthEast   \n",
       "3          2        4   PNT Colony  1400       Ready to move          0   \n",
       "4          2        2     Labbipet   950       Ready to move       East   \n",
       "...      ...      ...          ...   ...                 ...        ...   \n",
       "1095       0        0    Kankipadu  1500              Resale          0   \n",
       "1096       3        3  Benz Circle  2317  Under Construction       East   \n",
       "1097       3        3   Gannavaram  1650       Ready to move          0   \n",
       "1098       2        2  Payakapuram  1000       Ready to move          0   \n",
       "1099       3        3  Benz Circle  2317  Under Construction       East   \n",
       "\n",
       "                   Type  Price  \n",
       "0             Apartment   55.5  \n",
       "1             Apartment   48.0  \n",
       "2     Independent House   50.0  \n",
       "3     Independent House   72.0  \n",
       "4             Apartment   60.0  \n",
       "...                 ...    ...  \n",
       "1095          Apartment   20.0  \n",
       "1096  Independent House  166.0  \n",
       "1097          Apartment   72.0  \n",
       "1098          Apartment   56.0  \n",
       "1099          Apartment  166.0  \n",
       "\n",
       "[1100 rows x 8 columns]"
      ]
     },
     "execution_count": 136,
     "metadata": {},
     "output_type": "execute_result"
    }
   ],
   "source": [
    "# Create a dictionary with the scraped data\n",
    "data =pd.DataFrame({\n",
    "    'Bedroom': Bedroom,\n",
    "    'Bathroom': Bathroom,\n",
    "    'Location': Location,\n",
    "    'area': area,\n",
    "    'status': status,\n",
    "    'Facing': Facing,\n",
    "    'Type': Type,\n",
    "    'Price': Price\n",
    "})\n",
    "\n",
    "data"
   ]
  },
  {
   "cell_type": "markdown",
   "id": "258f853d",
   "metadata": {},
   "source": [
    "CHECKING NULL VALUES"
   ]
  },
  {
   "cell_type": "code",
   "execution_count": 137,
   "id": "75b9efa6",
   "metadata": {},
   "outputs": [
    {
     "data": {
      "text/plain": [
       "Bedroom     0\n",
       "Bathroom    0\n",
       "Location    0\n",
       "area        0\n",
       "status      0\n",
       "Facing      0\n",
       "Type        0\n",
       "Price       0\n",
       "dtype: int64"
      ]
     },
     "execution_count": 137,
     "metadata": {},
     "output_type": "execute_result"
    }
   ],
   "source": [
    "data.isnull().sum()"
   ]
  },
  {
   "cell_type": "markdown",
   "id": "1c2f009f",
   "metadata": {},
   "source": [
    "DROPING NULL VALUES"
   ]
  },
  {
   "cell_type": "code",
   "execution_count": 27,
   "id": "194554ec",
   "metadata": {},
   "outputs": [],
   "source": [
    "data.dropna(inplace=True)"
   ]
  },
  {
   "cell_type": "code",
   "execution_count": 28,
   "id": "a1fa524b",
   "metadata": {},
   "outputs": [
    {
     "data": {
      "text/html": [
       "<div>\n",
       "<style scoped>\n",
       "    .dataframe tbody tr th:only-of-type {\n",
       "        vertical-align: middle;\n",
       "    }\n",
       "\n",
       "    .dataframe tbody tr th {\n",
       "        vertical-align: top;\n",
       "    }\n",
       "\n",
       "    .dataframe thead th {\n",
       "        text-align: right;\n",
       "    }\n",
       "</style>\n",
       "<table border=\"1\" class=\"dataframe\">\n",
       "  <thead>\n",
       "    <tr style=\"text-align: right;\">\n",
       "      <th></th>\n",
       "      <th>Bedroom</th>\n",
       "      <th>Bathroom</th>\n",
       "      <th>Location</th>\n",
       "      <th>area</th>\n",
       "      <th>status</th>\n",
       "      <th>Facing</th>\n",
       "      <th>Type</th>\n",
       "      <th>Price</th>\n",
       "    </tr>\n",
       "  </thead>\n",
       "  <tbody>\n",
       "    <tr>\n",
       "      <th>0</th>\n",
       "      <td>3</td>\n",
       "      <td>3</td>\n",
       "      <td>Poranki</td>\n",
       "      <td>1587</td>\n",
       "      <td>Ready to move</td>\n",
       "      <td>West</td>\n",
       "      <td>Apartment</td>\n",
       "      <td>55.5</td>\n",
       "    </tr>\n",
       "    <tr>\n",
       "      <th>1</th>\n",
       "      <td>2</td>\n",
       "      <td>2</td>\n",
       "      <td>Poranki</td>\n",
       "      <td>1450</td>\n",
       "      <td>Ready to move</td>\n",
       "      <td>0</td>\n",
       "      <td>Apartment</td>\n",
       "      <td>48.0</td>\n",
       "    </tr>\n",
       "    <tr>\n",
       "      <th>2</th>\n",
       "      <td>2</td>\n",
       "      <td>2</td>\n",
       "      <td>Kankipadu</td>\n",
       "      <td>1290</td>\n",
       "      <td>Under Construction</td>\n",
       "      <td>NorthEast</td>\n",
       "      <td>Independent House</td>\n",
       "      <td>50.0</td>\n",
       "    </tr>\n",
       "    <tr>\n",
       "      <th>3</th>\n",
       "      <td>2</td>\n",
       "      <td>4</td>\n",
       "      <td>PNT Colony</td>\n",
       "      <td>1400</td>\n",
       "      <td>Ready to move</td>\n",
       "      <td>0</td>\n",
       "      <td>Independent House</td>\n",
       "      <td>72.0</td>\n",
       "    </tr>\n",
       "    <tr>\n",
       "      <th>4</th>\n",
       "      <td>2</td>\n",
       "      <td>2</td>\n",
       "      <td>Labbipet</td>\n",
       "      <td>950</td>\n",
       "      <td>Ready to move</td>\n",
       "      <td>East</td>\n",
       "      <td>Apartment</td>\n",
       "      <td>60.0</td>\n",
       "    </tr>\n",
       "    <tr>\n",
       "      <th>...</th>\n",
       "      <td>...</td>\n",
       "      <td>...</td>\n",
       "      <td>...</td>\n",
       "      <td>...</td>\n",
       "      <td>...</td>\n",
       "      <td>...</td>\n",
       "      <td>...</td>\n",
       "      <td>...</td>\n",
       "    </tr>\n",
       "    <tr>\n",
       "      <th>1095</th>\n",
       "      <td>0</td>\n",
       "      <td>0</td>\n",
       "      <td>Kankipadu</td>\n",
       "      <td>1500</td>\n",
       "      <td>Resale</td>\n",
       "      <td>0</td>\n",
       "      <td>Apartment</td>\n",
       "      <td>20.0</td>\n",
       "    </tr>\n",
       "    <tr>\n",
       "      <th>1096</th>\n",
       "      <td>3</td>\n",
       "      <td>3</td>\n",
       "      <td>Benz Circle</td>\n",
       "      <td>2317</td>\n",
       "      <td>Under Construction</td>\n",
       "      <td>East</td>\n",
       "      <td>Independent House</td>\n",
       "      <td>166.0</td>\n",
       "    </tr>\n",
       "    <tr>\n",
       "      <th>1097</th>\n",
       "      <td>3</td>\n",
       "      <td>3</td>\n",
       "      <td>Gannavaram</td>\n",
       "      <td>1650</td>\n",
       "      <td>Ready to move</td>\n",
       "      <td>0</td>\n",
       "      <td>Apartment</td>\n",
       "      <td>72.0</td>\n",
       "    </tr>\n",
       "    <tr>\n",
       "      <th>1098</th>\n",
       "      <td>2</td>\n",
       "      <td>2</td>\n",
       "      <td>Payakapuram</td>\n",
       "      <td>1000</td>\n",
       "      <td>Ready to move</td>\n",
       "      <td>0</td>\n",
       "      <td>Apartment</td>\n",
       "      <td>56.0</td>\n",
       "    </tr>\n",
       "    <tr>\n",
       "      <th>1099</th>\n",
       "      <td>3</td>\n",
       "      <td>3</td>\n",
       "      <td>Benz Circle</td>\n",
       "      <td>2317</td>\n",
       "      <td>Under Construction</td>\n",
       "      <td>East</td>\n",
       "      <td>Apartment</td>\n",
       "      <td>166.0</td>\n",
       "    </tr>\n",
       "  </tbody>\n",
       "</table>\n",
       "<p>1100 rows × 8 columns</p>\n",
       "</div>"
      ],
      "text/plain": [
       "     Bedroom Bathroom     Location  area              status     Facing  \\\n",
       "0          3        3      Poranki  1587       Ready to move       West   \n",
       "1          2        2      Poranki  1450       Ready to move          0   \n",
       "2          2        2    Kankipadu  1290  Under Construction  NorthEast   \n",
       "3          2        4   PNT Colony  1400       Ready to move          0   \n",
       "4          2        2     Labbipet   950       Ready to move       East   \n",
       "...      ...      ...          ...   ...                 ...        ...   \n",
       "1095       0        0    Kankipadu  1500              Resale          0   \n",
       "1096       3        3  Benz Circle  2317  Under Construction       East   \n",
       "1097       3        3   Gannavaram  1650       Ready to move          0   \n",
       "1098       2        2  Payakapuram  1000       Ready to move          0   \n",
       "1099       3        3  Benz Circle  2317  Under Construction       East   \n",
       "\n",
       "                   Type  Price  \n",
       "0             Apartment   55.5  \n",
       "1             Apartment   48.0  \n",
       "2     Independent House   50.0  \n",
       "3     Independent House   72.0  \n",
       "4             Apartment   60.0  \n",
       "...                 ...    ...  \n",
       "1095          Apartment   20.0  \n",
       "1096  Independent House  166.0  \n",
       "1097          Apartment   72.0  \n",
       "1098          Apartment   56.0  \n",
       "1099          Apartment  166.0  \n",
       "\n",
       "[1100 rows x 8 columns]"
      ]
     },
     "execution_count": 28,
     "metadata": {},
     "output_type": "execute_result"
    }
   ],
   "source": [
    "data"
   ]
  },
  {
   "cell_type": "code",
   "execution_count": 138,
   "id": "fde6a891",
   "metadata": {},
   "outputs": [],
   "source": [
    "#Converting the above cleansed data into CSV file\n",
    "data.to_csv('House2.csv')"
   ]
  },
  {
   "cell_type": "code",
   "execution_count": 3,
   "id": "988a9755",
   "metadata": {},
   "outputs": [],
   "source": [
    "data = pd.read_csv('House2.csv')"
   ]
  },
  {
   "cell_type": "code",
   "execution_count": 4,
   "id": "7d25a057",
   "metadata": {},
   "outputs": [
    {
     "data": {
      "text/html": [
       "<div>\n",
       "<style scoped>\n",
       "    .dataframe tbody tr th:only-of-type {\n",
       "        vertical-align: middle;\n",
       "    }\n",
       "\n",
       "    .dataframe tbody tr th {\n",
       "        vertical-align: top;\n",
       "    }\n",
       "\n",
       "    .dataframe thead th {\n",
       "        text-align: right;\n",
       "    }\n",
       "</style>\n",
       "<table border=\"1\" class=\"dataframe\">\n",
       "  <thead>\n",
       "    <tr style=\"text-align: right;\">\n",
       "      <th></th>\n",
       "      <th>Unnamed: 0</th>\n",
       "      <th>Bedroom</th>\n",
       "      <th>Bathroom</th>\n",
       "      <th>Location</th>\n",
       "      <th>area</th>\n",
       "      <th>status</th>\n",
       "      <th>Facing</th>\n",
       "      <th>Type</th>\n",
       "      <th>Price</th>\n",
       "    </tr>\n",
       "  </thead>\n",
       "  <tbody>\n",
       "    <tr>\n",
       "      <th>0</th>\n",
       "      <td>0</td>\n",
       "      <td>3</td>\n",
       "      <td>3</td>\n",
       "      <td>Poranki</td>\n",
       "      <td>1587</td>\n",
       "      <td>Ready to move</td>\n",
       "      <td>West</td>\n",
       "      <td>Apartment</td>\n",
       "      <td>55.5</td>\n",
       "    </tr>\n",
       "    <tr>\n",
       "      <th>1</th>\n",
       "      <td>1</td>\n",
       "      <td>2</td>\n",
       "      <td>2</td>\n",
       "      <td>Poranki</td>\n",
       "      <td>1450</td>\n",
       "      <td>Ready to move</td>\n",
       "      <td>0</td>\n",
       "      <td>Apartment</td>\n",
       "      <td>48.0</td>\n",
       "    </tr>\n",
       "    <tr>\n",
       "      <th>2</th>\n",
       "      <td>2</td>\n",
       "      <td>2</td>\n",
       "      <td>2</td>\n",
       "      <td>Kankipadu</td>\n",
       "      <td>1290</td>\n",
       "      <td>Under Construction</td>\n",
       "      <td>NorthEast</td>\n",
       "      <td>Independent House</td>\n",
       "      <td>50.0</td>\n",
       "    </tr>\n",
       "    <tr>\n",
       "      <th>3</th>\n",
       "      <td>3</td>\n",
       "      <td>2</td>\n",
       "      <td>4</td>\n",
       "      <td>PNT Colony</td>\n",
       "      <td>1400</td>\n",
       "      <td>Ready to move</td>\n",
       "      <td>0</td>\n",
       "      <td>Independent House</td>\n",
       "      <td>72.0</td>\n",
       "    </tr>\n",
       "    <tr>\n",
       "      <th>4</th>\n",
       "      <td>4</td>\n",
       "      <td>2</td>\n",
       "      <td>2</td>\n",
       "      <td>Labbipet</td>\n",
       "      <td>950</td>\n",
       "      <td>Ready to move</td>\n",
       "      <td>East</td>\n",
       "      <td>Apartment</td>\n",
       "      <td>60.0</td>\n",
       "    </tr>\n",
       "    <tr>\n",
       "      <th>...</th>\n",
       "      <td>...</td>\n",
       "      <td>...</td>\n",
       "      <td>...</td>\n",
       "      <td>...</td>\n",
       "      <td>...</td>\n",
       "      <td>...</td>\n",
       "      <td>...</td>\n",
       "      <td>...</td>\n",
       "      <td>...</td>\n",
       "    </tr>\n",
       "    <tr>\n",
       "      <th>1095</th>\n",
       "      <td>1095</td>\n",
       "      <td>0</td>\n",
       "      <td>0</td>\n",
       "      <td>Kankipadu</td>\n",
       "      <td>1500</td>\n",
       "      <td>Resale</td>\n",
       "      <td>0</td>\n",
       "      <td>Apartment</td>\n",
       "      <td>20.0</td>\n",
       "    </tr>\n",
       "    <tr>\n",
       "      <th>1096</th>\n",
       "      <td>1096</td>\n",
       "      <td>3</td>\n",
       "      <td>3</td>\n",
       "      <td>Benz Circle</td>\n",
       "      <td>2317</td>\n",
       "      <td>Under Construction</td>\n",
       "      <td>East</td>\n",
       "      <td>Independent House</td>\n",
       "      <td>166.0</td>\n",
       "    </tr>\n",
       "    <tr>\n",
       "      <th>1097</th>\n",
       "      <td>1097</td>\n",
       "      <td>3</td>\n",
       "      <td>3</td>\n",
       "      <td>Gannavaram</td>\n",
       "      <td>1650</td>\n",
       "      <td>Ready to move</td>\n",
       "      <td>0</td>\n",
       "      <td>Apartment</td>\n",
       "      <td>72.0</td>\n",
       "    </tr>\n",
       "    <tr>\n",
       "      <th>1098</th>\n",
       "      <td>1098</td>\n",
       "      <td>2</td>\n",
       "      <td>2</td>\n",
       "      <td>Payakapuram</td>\n",
       "      <td>1000</td>\n",
       "      <td>Ready to move</td>\n",
       "      <td>0</td>\n",
       "      <td>Apartment</td>\n",
       "      <td>56.0</td>\n",
       "    </tr>\n",
       "    <tr>\n",
       "      <th>1099</th>\n",
       "      <td>1099</td>\n",
       "      <td>3</td>\n",
       "      <td>3</td>\n",
       "      <td>Benz Circle</td>\n",
       "      <td>2317</td>\n",
       "      <td>Under Construction</td>\n",
       "      <td>East</td>\n",
       "      <td>Apartment</td>\n",
       "      <td>166.0</td>\n",
       "    </tr>\n",
       "  </tbody>\n",
       "</table>\n",
       "<p>1100 rows × 9 columns</p>\n",
       "</div>"
      ],
      "text/plain": [
       "      Unnamed: 0  Bedroom  Bathroom     Location  area              status  \\\n",
       "0              0        3         3      Poranki  1587       Ready to move   \n",
       "1              1        2         2      Poranki  1450       Ready to move   \n",
       "2              2        2         2    Kankipadu  1290  Under Construction   \n",
       "3              3        2         4   PNT Colony  1400       Ready to move   \n",
       "4              4        2         2     Labbipet   950       Ready to move   \n",
       "...          ...      ...       ...          ...   ...                 ...   \n",
       "1095        1095        0         0    Kankipadu  1500              Resale   \n",
       "1096        1096        3         3  Benz Circle  2317  Under Construction   \n",
       "1097        1097        3         3   Gannavaram  1650       Ready to move   \n",
       "1098        1098        2         2  Payakapuram  1000       Ready to move   \n",
       "1099        1099        3         3  Benz Circle  2317  Under Construction   \n",
       "\n",
       "         Facing               Type  Price  \n",
       "0          West          Apartment   55.5  \n",
       "1             0          Apartment   48.0  \n",
       "2     NorthEast  Independent House   50.0  \n",
       "3             0  Independent House   72.0  \n",
       "4          East          Apartment   60.0  \n",
       "...         ...                ...    ...  \n",
       "1095          0          Apartment   20.0  \n",
       "1096       East  Independent House  166.0  \n",
       "1097          0          Apartment   72.0  \n",
       "1098          0          Apartment   56.0  \n",
       "1099       East          Apartment  166.0  \n",
       "\n",
       "[1100 rows x 9 columns]"
      ]
     },
     "execution_count": 4,
     "metadata": {},
     "output_type": "execute_result"
    }
   ],
   "source": [
    "data"
   ]
  },
  {
   "cell_type": "code",
   "execution_count": 5,
   "id": "f44abde7",
   "metadata": {},
   "outputs": [],
   "source": [
    "data.drop(['Unnamed: 0'], axis=1, inplace=True)"
   ]
  },
  {
   "cell_type": "code",
   "execution_count": 6,
   "id": "a8ecbf96",
   "metadata": {},
   "outputs": [
    {
     "data": {
      "text/html": [
       "<div>\n",
       "<style scoped>\n",
       "    .dataframe tbody tr th:only-of-type {\n",
       "        vertical-align: middle;\n",
       "    }\n",
       "\n",
       "    .dataframe tbody tr th {\n",
       "        vertical-align: top;\n",
       "    }\n",
       "\n",
       "    .dataframe thead th {\n",
       "        text-align: right;\n",
       "    }\n",
       "</style>\n",
       "<table border=\"1\" class=\"dataframe\">\n",
       "  <thead>\n",
       "    <tr style=\"text-align: right;\">\n",
       "      <th></th>\n",
       "      <th>Bedroom</th>\n",
       "      <th>Bathroom</th>\n",
       "      <th>Location</th>\n",
       "      <th>area</th>\n",
       "      <th>status</th>\n",
       "      <th>Facing</th>\n",
       "      <th>Type</th>\n",
       "      <th>Price</th>\n",
       "    </tr>\n",
       "  </thead>\n",
       "  <tbody>\n",
       "    <tr>\n",
       "      <th>0</th>\n",
       "      <td>3</td>\n",
       "      <td>3</td>\n",
       "      <td>Poranki</td>\n",
       "      <td>1587</td>\n",
       "      <td>Ready to move</td>\n",
       "      <td>West</td>\n",
       "      <td>Apartment</td>\n",
       "      <td>55.5</td>\n",
       "    </tr>\n",
       "    <tr>\n",
       "      <th>1</th>\n",
       "      <td>2</td>\n",
       "      <td>2</td>\n",
       "      <td>Poranki</td>\n",
       "      <td>1450</td>\n",
       "      <td>Ready to move</td>\n",
       "      <td>0</td>\n",
       "      <td>Apartment</td>\n",
       "      <td>48.0</td>\n",
       "    </tr>\n",
       "    <tr>\n",
       "      <th>2</th>\n",
       "      <td>2</td>\n",
       "      <td>2</td>\n",
       "      <td>Kankipadu</td>\n",
       "      <td>1290</td>\n",
       "      <td>Under Construction</td>\n",
       "      <td>NorthEast</td>\n",
       "      <td>Independent House</td>\n",
       "      <td>50.0</td>\n",
       "    </tr>\n",
       "    <tr>\n",
       "      <th>3</th>\n",
       "      <td>2</td>\n",
       "      <td>4</td>\n",
       "      <td>PNT Colony</td>\n",
       "      <td>1400</td>\n",
       "      <td>Ready to move</td>\n",
       "      <td>0</td>\n",
       "      <td>Independent House</td>\n",
       "      <td>72.0</td>\n",
       "    </tr>\n",
       "    <tr>\n",
       "      <th>4</th>\n",
       "      <td>2</td>\n",
       "      <td>2</td>\n",
       "      <td>Labbipet</td>\n",
       "      <td>950</td>\n",
       "      <td>Ready to move</td>\n",
       "      <td>East</td>\n",
       "      <td>Apartment</td>\n",
       "      <td>60.0</td>\n",
       "    </tr>\n",
       "    <tr>\n",
       "      <th>...</th>\n",
       "      <td>...</td>\n",
       "      <td>...</td>\n",
       "      <td>...</td>\n",
       "      <td>...</td>\n",
       "      <td>...</td>\n",
       "      <td>...</td>\n",
       "      <td>...</td>\n",
       "      <td>...</td>\n",
       "    </tr>\n",
       "    <tr>\n",
       "      <th>1095</th>\n",
       "      <td>0</td>\n",
       "      <td>0</td>\n",
       "      <td>Kankipadu</td>\n",
       "      <td>1500</td>\n",
       "      <td>Resale</td>\n",
       "      <td>0</td>\n",
       "      <td>Apartment</td>\n",
       "      <td>20.0</td>\n",
       "    </tr>\n",
       "    <tr>\n",
       "      <th>1096</th>\n",
       "      <td>3</td>\n",
       "      <td>3</td>\n",
       "      <td>Benz Circle</td>\n",
       "      <td>2317</td>\n",
       "      <td>Under Construction</td>\n",
       "      <td>East</td>\n",
       "      <td>Independent House</td>\n",
       "      <td>166.0</td>\n",
       "    </tr>\n",
       "    <tr>\n",
       "      <th>1097</th>\n",
       "      <td>3</td>\n",
       "      <td>3</td>\n",
       "      <td>Gannavaram</td>\n",
       "      <td>1650</td>\n",
       "      <td>Ready to move</td>\n",
       "      <td>0</td>\n",
       "      <td>Apartment</td>\n",
       "      <td>72.0</td>\n",
       "    </tr>\n",
       "    <tr>\n",
       "      <th>1098</th>\n",
       "      <td>2</td>\n",
       "      <td>2</td>\n",
       "      <td>Payakapuram</td>\n",
       "      <td>1000</td>\n",
       "      <td>Ready to move</td>\n",
       "      <td>0</td>\n",
       "      <td>Apartment</td>\n",
       "      <td>56.0</td>\n",
       "    </tr>\n",
       "    <tr>\n",
       "      <th>1099</th>\n",
       "      <td>3</td>\n",
       "      <td>3</td>\n",
       "      <td>Benz Circle</td>\n",
       "      <td>2317</td>\n",
       "      <td>Under Construction</td>\n",
       "      <td>East</td>\n",
       "      <td>Apartment</td>\n",
       "      <td>166.0</td>\n",
       "    </tr>\n",
       "  </tbody>\n",
       "</table>\n",
       "<p>1100 rows × 8 columns</p>\n",
       "</div>"
      ],
      "text/plain": [
       "      Bedroom  Bathroom     Location  area              status     Facing  \\\n",
       "0           3         3      Poranki  1587       Ready to move       West   \n",
       "1           2         2      Poranki  1450       Ready to move          0   \n",
       "2           2         2    Kankipadu  1290  Under Construction  NorthEast   \n",
       "3           2         4   PNT Colony  1400       Ready to move          0   \n",
       "4           2         2     Labbipet   950       Ready to move       East   \n",
       "...       ...       ...          ...   ...                 ...        ...   \n",
       "1095        0         0    Kankipadu  1500              Resale          0   \n",
       "1096        3         3  Benz Circle  2317  Under Construction       East   \n",
       "1097        3         3   Gannavaram  1650       Ready to move          0   \n",
       "1098        2         2  Payakapuram  1000       Ready to move          0   \n",
       "1099        3         3  Benz Circle  2317  Under Construction       East   \n",
       "\n",
       "                   Type  Price  \n",
       "0             Apartment   55.5  \n",
       "1             Apartment   48.0  \n",
       "2     Independent House   50.0  \n",
       "3     Independent House   72.0  \n",
       "4             Apartment   60.0  \n",
       "...                 ...    ...  \n",
       "1095          Apartment   20.0  \n",
       "1096  Independent House  166.0  \n",
       "1097          Apartment   72.0  \n",
       "1098          Apartment   56.0  \n",
       "1099          Apartment  166.0  \n",
       "\n",
       "[1100 rows x 8 columns]"
      ]
     },
     "execution_count": 6,
     "metadata": {},
     "output_type": "execute_result"
    }
   ],
   "source": [
    "data"
   ]
  },
  {
   "cell_type": "code",
   "execution_count": 7,
   "id": "8d9d05b6",
   "metadata": {},
   "outputs": [
    {
     "data": {
      "text/plain": [
       "(1100, 8)"
      ]
     },
     "execution_count": 7,
     "metadata": {},
     "output_type": "execute_result"
    }
   ],
   "source": [
    "data.shape"
   ]
  },
  {
   "cell_type": "markdown",
   "id": "b9e7c7a8",
   "metadata": {},
   "source": [
    "FINDING INFORMATION OF THE DATA"
   ]
  },
  {
   "cell_type": "code",
   "execution_count": 8,
   "id": "2c31fa3e",
   "metadata": {},
   "outputs": [
    {
     "name": "stdout",
     "output_type": "stream",
     "text": [
      "<class 'pandas.core.frame.DataFrame'>\n",
      "RangeIndex: 1100 entries, 0 to 1099\n",
      "Data columns (total 8 columns):\n",
      " #   Column    Non-Null Count  Dtype  \n",
      "---  ------    --------------  -----  \n",
      " 0   Bedroom   1100 non-null   int64  \n",
      " 1   Bathroom  1100 non-null   int64  \n",
      " 2   Location  1100 non-null   object \n",
      " 3   area      1100 non-null   int64  \n",
      " 4   status    1100 non-null   object \n",
      " 5   Facing    1100 non-null   object \n",
      " 6   Type      1100 non-null   object \n",
      " 7   Price     1100 non-null   float64\n",
      "dtypes: float64(1), int64(3), object(4)\n",
      "memory usage: 68.9+ KB\n"
     ]
    }
   ],
   "source": [
    "data.info()"
   ]
  },
  {
   "cell_type": "markdown",
   "id": "c2a670ed",
   "metadata": {},
   "source": [
    "MAPPING THE CATEGORICAL VALUES TO NUMERIC"
   ]
  },
  {
   "cell_type": "code",
   "execution_count": 9,
   "id": "cf4b886d",
   "metadata": {},
   "outputs": [],
   "source": [
    "data['Location'] = data['Location'].map({'Poranki':0,\n",
    "                                         'Kankipadu':1,\n",
    "                                         'Benz Circle':2,\n",
    "                                         'Gannavaram':3,\n",
    "                                         'PNT Colony':4,\n",
    "                                         'Labbipet':5,\n",
    "                                         'Gunadala':6,\n",
    "                                         'Gollapudi':7,\n",
    "                                         'Enikepadu':8,\n",
    "                                         'Vidhyadharpuram':9,\n",
    "                                         'Penamaluru':10,\n",
    "                                         'Payakapuram':11})\n",
    "\n",
    "data['status'] = data['status'].map({'Resale':0,\n",
    "                                     'Under Construction':1,\n",
    "                                     'Ready to move':2})\n",
    "\n",
    "data['Facing'] = data['Facing'].map({'0':0,\n",
    "                                     'East':1,\n",
    "                                     'West':2,\n",
    "                                     'NorthEast':3})\n",
    "\n",
    "data['Type'] = data['Type'].map({'Apartment':0,\n",
    "                                 'Independent House':1,\n",
    "                                 'Residential Plot':2})"
   ]
  },
  {
   "cell_type": "code",
   "execution_count": 10,
   "id": "20f8e2fa",
   "metadata": {},
   "outputs": [
    {
     "name": "stdout",
     "output_type": "stream",
     "text": [
      "<class 'pandas.core.frame.DataFrame'>\n",
      "RangeIndex: 1100 entries, 0 to 1099\n",
      "Data columns (total 8 columns):\n",
      " #   Column    Non-Null Count  Dtype  \n",
      "---  ------    --------------  -----  \n",
      " 0   Bedroom   1100 non-null   int64  \n",
      " 1   Bathroom  1100 non-null   int64  \n",
      " 2   Location  1100 non-null   int64  \n",
      " 3   area      1100 non-null   int64  \n",
      " 4   status    1100 non-null   int64  \n",
      " 5   Facing    1100 non-null   int64  \n",
      " 6   Type      1100 non-null   int64  \n",
      " 7   Price     1100 non-null   float64\n",
      "dtypes: float64(1), int64(7)\n",
      "memory usage: 68.9 KB\n"
     ]
    }
   ],
   "source": [
    "data.info()"
   ]
  },
  {
   "cell_type": "code",
   "execution_count": 11,
   "id": "cb2a85e8",
   "metadata": {},
   "outputs": [],
   "source": [
    "import numpy as np\n",
    "import pandas as pd\n",
    "import seaborn as sns\n",
    "import matplotlib.pyplot as plt\n",
    "%matplotlib inline"
   ]
  },
  {
   "cell_type": "markdown",
   "id": "b343ba2b",
   "metadata": {},
   "source": [
    "DATA VISUALIZATION USING BAR ,LINE,SCATTER AND HIST PLOTS"
   ]
  },
  {
   "cell_type": "code",
   "execution_count": 39,
   "id": "a0e850bd",
   "metadata": {},
   "outputs": [
    {
     "data": {
      "text/plain": [
       "<AxesSubplot:xlabel='Bedroom', ylabel='Price'>"
      ]
     },
     "execution_count": 39,
     "metadata": {},
     "output_type": "execute_result"
    },
    {
     "data": {
      "image/png": "[encoded data removed]",
      "text/plain": [
       "<Figure size 432x288 with 1 Axes>"
      ]
     },
     "metadata": {
      "needs_background": "light"
     },
     "output_type": "display_data"
    }
   ],
   "source": [
    "sns.lineplot(x=\"Bedroom\",y=\"Price\",data=data)"
   ]
  },
  {
   "cell_type": "code",
   "execution_count": 40,
   "id": "e4751d40",
   "metadata": {},
   "outputs": [
    {
     "data": {
      "text/plain": [
       "<AxesSubplot:xlabel='Bathroom', ylabel='Price'>"
      ]
     },
     "execution_count": 40,
     "metadata": {},
     "output_type": "execute_result"
    },
    {
     "data": {
      "image/png": "[encoded data removed]",
      "text/plain": [
       "<Figure size 432x288 with 1 Axes>"
      ]
     },
     "metadata": {
      "needs_background": "light"
     },
     "output_type": "display_data"
    }
   ],
   "source": [
    "sns.lineplot(x=\"Bathroom\",y=\"Price\",data=data)"
   ]
  },
  {
   "cell_type": "code",
   "execution_count": 41,
   "id": "2ec20038",
   "metadata": {},
   "outputs": [
    {
     "data": {
      "text/plain": [
       "<AxesSubplot:xlabel='area', ylabel='Price'>"
      ]
     },
     "execution_count": 41,
     "metadata": {},
     "output_type": "execute_result"
    },
    {
     "data": {
      "image/png": "[encoded data removed]",
      "text/plain": [
       "<Figure size 432x288 with 1 Axes>"
      ]
     },
     "metadata": {
      "needs_background": "light"
     },
     "output_type": "display_data"
    }
   ],
   "source": [
    "sns.lineplot(x=\"area\",y=\"Price\",data=data)"
   ]
  },
  {
   "cell_type": "code",
   "execution_count": 42,
   "id": "54d17a77",
   "metadata": {},
   "outputs": [
    {
     "data": {
      "text/plain": [
       "<AxesSubplot:xlabel='status', ylabel='Price'>"
      ]
     },
     "execution_count": 42,
     "metadata": {},
     "output_type": "execute_result"
    },
    {
     "data": {
      "image/png": "[encoded data removed]",
      "text/plain": [
       "<Figure size 432x288 with 1 Axes>"
      ]
     },
     "metadata": {
      "needs_background": "light"
     },
     "output_type": "display_data"
    }
   ],
   "source": [
    "sns.lineplot(x=\"status\",y=\"Price\",data=data)"
   ]
  },
  {
   "cell_type": "code",
   "execution_count": 43,
   "id": "a238d60a",
   "metadata": {},
   "outputs": [
    {
     "data": {
      "text/plain": [
       "<AxesSubplot:xlabel='Location', ylabel='Price'>"
      ]
     },
     "execution_count": 43,
     "metadata": {},
     "output_type": "execute_result"
    },
    {
     "data": {
      "image/png": "[encoded data removed]",
      "text/plain": [
       "<Figure size 432x288 with 1 Axes>"
      ]
     },
     "metadata": {
      "needs_background": "light"
     },
     "output_type": "display_data"
    }
   ],
   "source": [
    "sns.lineplot(x=\"Location\",y=\"Price\",data=data)"
   ]
  },
  {
   "cell_type": "code",
   "execution_count": 44,
   "id": "fbf5ddc1",
   "metadata": {},
   "outputs": [
    {
     "data": {
      "text/plain": [
       "<AxesSubplot:xlabel='Type', ylabel='Price'>"
      ]
     },
     "execution_count": 44,
     "metadata": {},
     "output_type": "execute_result"
    },
    {
     "data": {
      "image/png": "[encoded data removed]",
      "text/plain": [
       "<Figure size 432x288 with 1 Axes>"
      ]
     },
     "metadata": {
      "needs_background": "light"
     },
     "output_type": "display_data"
    }
   ],
   "source": [
    "sns.lineplot(x=\"Type\",y=\"Price\",data=data)"
   ]
  },
  {
   "cell_type": "code",
   "execution_count": 45,
   "id": "f440ff49",
   "metadata": {},
   "outputs": [
    {
     "data": {
      "text/plain": [
       "<AxesSubplot:xlabel='Bathroom', ylabel='Price'>"
      ]
     },
     "execution_count": 45,
     "metadata": {},
     "output_type": "execute_result"
    },
    {
     "data": {
      "image/png": "[encoded data removed]",
      "text/plain": [
       "<Figure size 432x288 with 1 Axes>"
      ]
     },
     "metadata": {
      "needs_background": "light"
     },
     "output_type": "display_data"
    }
   ],
   "source": [
    "sns.histplot(x=\"Bathroom\",y=\"Price\",data=data)"
   ]
  },
  {
   "cell_type": "code",
   "execution_count": 46,
   "id": "a6ef0a11",
   "metadata": {},
   "outputs": [
    {
     "data": {
      "text/plain": [
       "<AxesSubplot:xlabel='Bedroom', ylabel='Price'>"
      ]
     },
     "execution_count": 46,
     "metadata": {},
     "output_type": "execute_result"
    },
    {
     "data": {
      "image/png": "[encoded data removed]",
      "text/plain": [
       "<Figure size 432x288 with 1 Axes>"
      ]
     },
     "metadata": {
      "needs_background": "light"
     },
     "output_type": "display_data"
    }
   ],
   "source": [
    "sns.histplot(x=\"Bedroom\",y=\"Price\",data=data)"
   ]
  },
  {
   "cell_type": "code",
   "execution_count": 47,
   "id": "9037d6e6",
   "metadata": {},
   "outputs": [
    {
     "data": {
      "text/plain": [
       "<AxesSubplot:xlabel='area', ylabel='Price'>"
      ]
     },
     "execution_count": 47,
     "metadata": {},
     "output_type": "execute_result"
    },
    {
     "data": {
      "image/png": "[encoded data removed]",
      "text/plain": [
       "<Figure size 432x288 with 1 Axes>"
      ]
     },
     "metadata": {
      "needs_background": "light"
     },
     "output_type": "display_data"
    }
   ],
   "source": [
    "sns.histplot(x=\"area\",y=\"Price\",data=data)"
   ]
  },
  {
   "cell_type": "code",
   "execution_count": 48,
   "id": "62f3ede2",
   "metadata": {},
   "outputs": [
    {
     "data": {
      "text/plain": [
       "<AxesSubplot:xlabel='Facing', ylabel='Price'>"
      ]
     },
     "execution_count": 48,
     "metadata": {},
     "output_type": "execute_result"
    },
    {
     "data": {
      "image/png": "[encoded data removed]",
      "text/plain": [
       "<Figure size 432x288 with 1 Axes>"
      ]
     },
     "metadata": {
      "needs_background": "light"
     },
     "output_type": "display_data"
    }
   ],
   "source": [
    "sns.histplot(x=\"Facing\",y=\"Price\",data=data)"
   ]
  },
  {
   "cell_type": "code",
   "execution_count": 49,
   "id": "fda02383",
   "metadata": {},
   "outputs": [
    {
     "data": {
      "text/plain": [
       "<AxesSubplot:xlabel='status', ylabel='Price'>"
      ]
     },
     "execution_count": 49,
     "metadata": {},
     "output_type": "execute_result"
    },
    {
     "data": {
      "image/png": "[encoded data removed]",
      "text/plain": [
       "<Figure size 432x288 with 1 Axes>"
      ]
     },
     "metadata": {
      "needs_background": "light"
     },
     "output_type": "display_data"
    }
   ],
   "source": [
    "sns.histplot(x=\"status\",y=\"Price\",data=data)"
   ]
  },
  {
   "cell_type": "code",
   "execution_count": 50,
   "id": "3c86ef49",
   "metadata": {},
   "outputs": [
    {
     "data": {
      "text/plain": [
       "<AxesSubplot:xlabel='Bathroom', ylabel='Price'>"
      ]
     },
     "execution_count": 50,
     "metadata": {},
     "output_type": "execute_result"
    },
    {
     "data": {
      "image/png": "[encoded data removed]",
      "text/plain": [
       "<Figure size 432x288 with 1 Axes>"
      ]
     },
     "metadata": {
      "needs_background": "light"
     },
     "output_type": "display_data"
    }
   ],
   "source": [
    "sns.scatterplot(data=data, x='Bathroom', y=\"Price\")"
   ]
  },
  {
   "cell_type": "code",
   "execution_count": 51,
   "id": "e25e0bc0",
   "metadata": {},
   "outputs": [
    {
     "data": {
      "text/plain": [
       "<AxesSubplot:xlabel='Bedroom', ylabel='Price'>"
      ]
     },
     "execution_count": 51,
     "metadata": {},
     "output_type": "execute_result"
    },
    {
     "data": {
      "image/png": "[encoded data removed]",
      "text/plain": [
       "<Figure size 432x288 with 1 Axes>"
      ]
     },
     "metadata": {
      "needs_background": "light"
     },
     "output_type": "display_data"
    }
   ],
   "source": [
    "sns.scatterplot(data=data, x='Bedroom', y=\"Price\")"
   ]
  },
  {
   "cell_type": "code",
   "execution_count": 52,
   "id": "87cec966",
   "metadata": {},
   "outputs": [
    {
     "data": {
      "text/plain": [
       "<AxesSubplot:xlabel='status', ylabel='Price'>"
      ]
     },
     "execution_count": 52,
     "metadata": {},
     "output_type": "execute_result"
    },
    {
     "data": {
      "image/png": "[encoded data removed]",
      "text/plain": [
       "<Figure size 432x288 with 1 Axes>"
      ]
     },
     "metadata": {
      "needs_background": "light"
     },
     "output_type": "display_data"
    }
   ],
   "source": [
    "sns.scatterplot(data=data, x='status', y=\"Price\")"
   ]
  },
  {
   "cell_type": "code",
   "execution_count": 53,
   "id": "bf864c56",
   "metadata": {},
   "outputs": [
    {
     "data": {
      "text/plain": [
       "<AxesSubplot:xlabel='area', ylabel='Price'>"
      ]
     },
     "execution_count": 53,
     "metadata": {},
     "output_type": "execute_result"
    },
    {
     "data": {
      "image/png": "[encoded data removed]",
      "text/plain": [
       "<Figure size 432x288 with 1 Axes>"
      ]
     },
     "metadata": {
      "needs_background": "light"
     },
     "output_type": "display_data"
    }
   ],
   "source": [
    "sns.scatterplot(data=data, x='area', y=\"Price\")"
   ]
  },
  {
   "cell_type": "code",
   "execution_count": 54,
   "id": "f6a1284a",
   "metadata": {},
   "outputs": [
    {
     "data": {
      "image/png": "[encoded data removed]",
      "text/plain": [
       "<Figure size 432x288 with 1 Axes>"
      ]
     },
     "metadata": {
      "needs_background": "light"
     },
     "output_type": "display_data"
    }
   ],
   "source": [
    "data['Bedroom'].value_counts().plot(kind='bar')\n",
    "plt.ylabel(\"Price\")\n",
    "plt.xlabel(\"No_of_bhk\")\n",
    "plt.title(\"No_of_bhk vs Price\")\n",
    "plt.show()"
   ]
  },
  {
   "cell_type": "code",
   "execution_count": 55,
   "id": "52aff3ca",
   "metadata": {},
   "outputs": [
    {
     "data": {
      "image/png": "[encoded data removed]",
      "text/plain": [
       "<Figure size 432x288 with 1 Axes>"
      ]
     },
     "metadata": {
      "needs_background": "light"
     },
     "output_type": "display_data"
    }
   ],
   "source": [
    "data['Bathroom'].value_counts().plot(kind='bar')\n",
    "plt.ylabel(\"Price\")\n",
    "plt.xlabel(\"No_of_bhk\")\n",
    "plt.title(\"No_of_bhk vs Price\")\n",
    "plt.show()"
   ]
  },
  {
   "cell_type": "code",
   "execution_count": 56,
   "id": "d70ea9c4",
   "metadata": {},
   "outputs": [
    {
     "data": {
      "image/png": "[encoded data removed]",
      "text/plain": [
       "<Figure size 432x288 with 1 Axes>"
      ]
     },
     "metadata": {
      "needs_background": "light"
     },
     "output_type": "display_data"
    }
   ],
   "source": [
    "data['area'].value_counts().plot(kind='bar')\n",
    "plt.xlabel(\"Price\")\n",
    "plt.ylabel(\"area\")\n",
    "plt.title(\"area vs Price\")\n",
    "plt.show()"
   ]
  },
  {
   "cell_type": "markdown",
   "id": "8923590d",
   "metadata": {},
   "source": [
    "FINDING THE FEATURE AND TARGET VARIABLES"
   ]
  },
  {
   "cell_type": "code",
   "execution_count": 57,
   "id": "b306360e",
   "metadata": {},
   "outputs": [
    {
     "data": {
      "text/plain": [
       "Index(['Bedroom', 'Bathroom', 'Location', 'area', 'status', 'Facing', 'Type',\n",
       "       'Price'],\n",
       "      dtype='object')"
      ]
     },
     "execution_count": 57,
     "metadata": {},
     "output_type": "execute_result"
    }
   ],
   "source": [
    "data.columns"
   ]
  },
  {
   "cell_type": "code",
   "execution_count": 12,
   "id": "fb89b221",
   "metadata": {},
   "outputs": [],
   "source": [
    "X = data.drop(['Price'], axis=1)\n",
    "y = data[\"Price\"]"
   ]
  },
  {
   "cell_type": "code",
   "execution_count": 13,
   "id": "caa00783",
   "metadata": {},
   "outputs": [
    {
     "data": {
      "text/html": [
       "<div>\n",
       "<style scoped>\n",
       "    .dataframe tbody tr th:only-of-type {\n",
       "        vertical-align: middle;\n",
       "    }\n",
       "\n",
       "    .dataframe tbody tr th {\n",
       "        vertical-align: top;\n",
       "    }\n",
       "\n",
       "    .dataframe thead th {\n",
       "        text-align: right;\n",
       "    }\n",
       "</style>\n",
       "<table border=\"1\" class=\"dataframe\">\n",
       "  <thead>\n",
       "    <tr style=\"text-align: right;\">\n",
       "      <th></th>\n",
       "      <th>Bedroom</th>\n",
       "      <th>Bathroom</th>\n",
       "      <th>Location</th>\n",
       "      <th>area</th>\n",
       "      <th>status</th>\n",
       "      <th>Facing</th>\n",
       "      <th>Type</th>\n",
       "    </tr>\n",
       "  </thead>\n",
       "  <tbody>\n",
       "    <tr>\n",
       "      <th>0</th>\n",
       "      <td>3</td>\n",
       "      <td>3</td>\n",
       "      <td>0</td>\n",
       "      <td>1587</td>\n",
       "      <td>2</td>\n",
       "      <td>2</td>\n",
       "      <td>0</td>\n",
       "    </tr>\n",
       "    <tr>\n",
       "      <th>1</th>\n",
       "      <td>2</td>\n",
       "      <td>2</td>\n",
       "      <td>0</td>\n",
       "      <td>1450</td>\n",
       "      <td>2</td>\n",
       "      <td>0</td>\n",
       "      <td>0</td>\n",
       "    </tr>\n",
       "    <tr>\n",
       "      <th>2</th>\n",
       "      <td>2</td>\n",
       "      <td>2</td>\n",
       "      <td>1</td>\n",
       "      <td>1290</td>\n",
       "      <td>1</td>\n",
       "      <td>3</td>\n",
       "      <td>1</td>\n",
       "    </tr>\n",
       "    <tr>\n",
       "      <th>3</th>\n",
       "      <td>2</td>\n",
       "      <td>4</td>\n",
       "      <td>4</td>\n",
       "      <td>1400</td>\n",
       "      <td>2</td>\n",
       "      <td>0</td>\n",
       "      <td>1</td>\n",
       "    </tr>\n",
       "    <tr>\n",
       "      <th>4</th>\n",
       "      <td>2</td>\n",
       "      <td>2</td>\n",
       "      <td>5</td>\n",
       "      <td>950</td>\n",
       "      <td>2</td>\n",
       "      <td>1</td>\n",
       "      <td>0</td>\n",
       "    </tr>\n",
       "    <tr>\n",
       "      <th>...</th>\n",
       "      <td>...</td>\n",
       "      <td>...</td>\n",
       "      <td>...</td>\n",
       "      <td>...</td>\n",
       "      <td>...</td>\n",
       "      <td>...</td>\n",
       "      <td>...</td>\n",
       "    </tr>\n",
       "    <tr>\n",
       "      <th>1095</th>\n",
       "      <td>0</td>\n",
       "      <td>0</td>\n",
       "      <td>1</td>\n",
       "      <td>1500</td>\n",
       "      <td>0</td>\n",
       "      <td>0</td>\n",
       "      <td>0</td>\n",
       "    </tr>\n",
       "    <tr>\n",
       "      <th>1096</th>\n",
       "      <td>3</td>\n",
       "      <td>3</td>\n",
       "      <td>2</td>\n",
       "      <td>2317</td>\n",
       "      <td>1</td>\n",
       "      <td>1</td>\n",
       "      <td>1</td>\n",
       "    </tr>\n",
       "    <tr>\n",
       "      <th>1097</th>\n",
       "      <td>3</td>\n",
       "      <td>3</td>\n",
       "      <td>3</td>\n",
       "      <td>1650</td>\n",
       "      <td>2</td>\n",
       "      <td>0</td>\n",
       "      <td>0</td>\n",
       "    </tr>\n",
       "    <tr>\n",
       "      <th>1098</th>\n",
       "      <td>2</td>\n",
       "      <td>2</td>\n",
       "      <td>11</td>\n",
       "      <td>1000</td>\n",
       "      <td>2</td>\n",
       "      <td>0</td>\n",
       "      <td>0</td>\n",
       "    </tr>\n",
       "    <tr>\n",
       "      <th>1099</th>\n",
       "      <td>3</td>\n",
       "      <td>3</td>\n",
       "      <td>2</td>\n",
       "      <td>2317</td>\n",
       "      <td>1</td>\n",
       "      <td>1</td>\n",
       "      <td>0</td>\n",
       "    </tr>\n",
       "  </tbody>\n",
       "</table>\n",
       "<p>1100 rows × 7 columns</p>\n",
       "</div>"
      ],
      "text/plain": [
       "      Bedroom  Bathroom  Location  area  status  Facing  Type\n",
       "0           3         3         0  1587       2       2     0\n",
       "1           2         2         0  1450       2       0     0\n",
       "2           2         2         1  1290       1       3     1\n",
       "3           2         4         4  1400       2       0     1\n",
       "4           2         2         5   950       2       1     0\n",
       "...       ...       ...       ...   ...     ...     ...   ...\n",
       "1095        0         0         1  1500       0       0     0\n",
       "1096        3         3         2  2317       1       1     1\n",
       "1097        3         3         3  1650       2       0     0\n",
       "1098        2         2        11  1000       2       0     0\n",
       "1099        3         3         2  2317       1       1     0\n",
       "\n",
       "[1100 rows x 7 columns]"
      ]
     },
     "execution_count": 13,
     "metadata": {},
     "output_type": "execute_result"
    }
   ],
   "source": [
    "X"
   ]
  },
  {
   "cell_type": "code",
   "execution_count": 14,
   "id": "b080e3d9",
   "metadata": {},
   "outputs": [
    {
     "data": {
      "text/plain": [
       "0        55.5\n",
       "1        48.0\n",
       "2        50.0\n",
       "3        72.0\n",
       "4        60.0\n",
       "        ...  \n",
       "1095     20.0\n",
       "1096    166.0\n",
       "1097     72.0\n",
       "1098     56.0\n",
       "1099    166.0\n",
       "Name: Price, Length: 1100, dtype: float64"
      ]
     },
     "execution_count": 14,
     "metadata": {},
     "output_type": "execute_result"
    }
   ],
   "source": [
    "y"
   ]
  },
  {
   "cell_type": "markdown",
   "id": "ea1715aa",
   "metadata": {},
   "source": [
    "IMPORTING REQUIRED LIBRARIES"
   ]
  },
  {
   "cell_type": "code",
   "execution_count": 15,
   "id": "eae67385",
   "metadata": {},
   "outputs": [],
   "source": [
    "from sklearn.model_selection import train_test_split\n",
    "from sklearn.tree import DecisionTreeRegressor\n",
    "from sklearn.linear_model import LinearRegression\n",
    "from sklearn.ensemble import RandomForestRegressor\n",
    "from sklearn.metrics import explained_variance_score\n",
    "from sklearn.metrics import confusion_matrix"
   ]
  },
  {
   "cell_type": "code",
   "execution_count": 16,
   "id": "b09d7916",
   "metadata": {},
   "outputs": [
    {
     "name": "stdout",
     "output_type": "stream",
     "text": [
      "X train shape:\t (880, 7)\n",
      "y train shape:\t (880,)\n",
      "X test shape:\t (220, 7)\n",
      "y test shape:\t (220,)\n"
     ]
    }
   ],
   "source": [
    "# train-test split of the data (80 % - 20 % split)\n",
    "from sklearn.model_selection import train_test_split\n",
    "X_train,X_test,y_train,y_test = train_test_split(X,y,test_size = 0.2, random_state = 1)\n",
    "\n",
    "# scale the values of the data variables\n",
    "# for easier computations\n",
    "'''from sklearn.preprocessing import StandardScaler\n",
    "scaler = StandardScaler()\n",
    "X_train = scaler.fit_transform(X_train)\n",
    "X_test = scaler.transform(X_test)'''\n",
    "\n",
    "print('X train shape:\\t', X_train.shape)\n",
    "print('y train shape:\\t', y_train.shape)\n",
    "print('X test shape:\\t', X_test.shape)\n",
    "print('y test shape:\\t', y_test.shape)"
   ]
  },
  {
   "cell_type": "markdown",
   "id": "622357ad",
   "metadata": {},
   "source": [
    "DECISION TREE REGRESSOR"
   ]
  },
  {
   "cell_type": "code",
   "execution_count": 150,
   "id": "18de50d9",
   "metadata": {},
   "outputs": [],
   "source": [
    "#decision tree\n",
    "tr_regressor = DecisionTreeRegressor(random_state=1)\n",
    "tr_regressor.fit(X_train,y_train)\n",
    "tr_regressor.score(X_test,y_test)\n",
    "pred_tr = tr_regressor.predict(X_test)\n",
    "decision_score=tr_regressor.score(X_test,y_test)\n",
    "expl_tr = explained_variance_score(pred_tr,y_test)"
   ]
  },
  {
   "cell_type": "code",
   "execution_count": 151,
   "id": "c2b03508",
   "metadata": {},
   "outputs": [
    {
     "name": "stdout",
     "output_type": "stream",
     "text": [
      "Mean Absolute Error: 1.162706294880164e-15\n",
      "Mean Squared Error: 1.9276891938491635e-29\n",
      "RootMean Squared Error: 4.390545744949213e-15\n"
     ]
    }
   ],
   "source": [
    "from sklearn import metrics\n",
    "print(\"Mean Absolute Error:\",metrics.mean_absolute_error(pred_tr,y_test))\n",
    "print(\"Mean Squared Error:\",metrics.mean_squared_error(pred_tr,y_test))\n",
    "print(\"RootMean Squared Error:\",np.sqrt(metrics.mean_squared_error(pred_tr,y_test)))"
   ]
  },
  {
   "cell_type": "code",
   "execution_count": 152,
   "id": "7bc4eb42",
   "metadata": {},
   "outputs": [
    {
     "name": "stdout",
     "output_type": "stream",
     "text": [
      "Decision tree Regression Model Score is 1\n"
     ]
    }
   ],
   "source": [
    "print(\"Decision tree Regression Model Score is\",round(tr_regressor.score(X_test,y_test)))"
   ]
  },
  {
   "cell_type": "code",
   "execution_count": 159,
   "id": "60a72b17",
   "metadata": {},
   "outputs": [
    {
     "name": "stdout",
     "output_type": "stream",
     "text": [
      "60.0\n"
     ]
    },
    {
     "name": "stderr",
     "output_type": "stream",
     "text": [
      "C:\\Users\\Lenovo\\anaconda3\\lib\\site-packages\\sklearn\\base.py:450: UserWarning: X does not have valid feature names, but DecisionTreeRegressor was fitted with feature names\n",
      "  warnings.warn(\n"
     ]
    }
   ],
   "source": [
    "features = np.array([[2,2,5,1000,2,1,1]])\n",
    "prediction=tr_regressor.predict(features)[0]\n",
    "print(prediction)"
   ]
  },
  {
   "cell_type": "markdown",
   "id": "9706994c",
   "metadata": {},
   "source": [
    "RANDOM FOREST REGRESSOR"
   ]
  },
  {
   "cell_type": "code",
   "execution_count": 17,
   "id": "f22a6dcc",
   "metadata": {},
   "outputs": [],
   "source": [
    "#random forest regression model\n",
    "rf_regressor = RandomForestRegressor(n_estimators=30,random_state=1)\n",
    "rf_regressor.fit(X_train,y_train)\n",
    "rf_regressor.score(X_test,y_test)\n",
    "rf_pred = rf_regressor.predict(X_test)\n",
    "rf_score = rf_regressor.score(X_test,y_test)\n",
    "expl_rf = explained_variance_score(rf_pred,y_test)"
   ]
  },
  {
   "cell_type": "code",
   "execution_count": 18,
   "id": "af3cd338",
   "metadata": {},
   "outputs": [
    {
     "name": "stdout",
     "output_type": "stream",
     "text": [
      "mae: 1.970141221880278e-15\n",
      "mse: 5.9896057094599e-29\n",
      "rmse: 7.739254298354525e-15\n"
     ]
    }
   ],
   "source": [
    "from sklearn.metrics import mean_absolute_error, mean_squared_error\n",
    "\n",
    "mae = mean_absolute_error(y_test, rf_pred)\n",
    "mse = mean_squared_error(y_test, rf_pred)\n",
    "rmse = mean_squared_error(y_test, rf_pred, squared=False)\n",
    "\n",
    "print(f'mae: {mae}')\n",
    "print(f'mse: {mse}')\n",
    "print(f'rmse: {rmse}')"
   ]
  },
  {
   "cell_type": "code",
   "execution_count": 19,
   "id": "21a4c6be",
   "metadata": {},
   "outputs": [
    {
     "name": "stdout",
     "output_type": "stream",
     "text": [
      "Random Forest Regression Model Score is 1\n"
     ]
    }
   ],
   "source": [
    "print(\"Random Forest Regression Model Score is\",round(rf_regressor.score(X_test,y_test)))"
   ]
  },
  {
   "cell_type": "code",
   "execution_count": 20,
   "id": "d9736440",
   "metadata": {},
   "outputs": [
    {
     "name": "stdout",
     "output_type": "stream",
     "text": [
      "59.86666666666667\n"
     ]
    },
    {
     "name": "stderr",
     "output_type": "stream",
     "text": [
      "C:\\Users\\Lenovo\\anaconda3\\lib\\site-packages\\sklearn\\base.py:450: UserWarning: X does not have valid feature names, but RandomForestRegressor was fitted with feature names\n",
      "  warnings.warn(\n"
     ]
    }
   ],
   "source": [
    "features = np.array([[2,2,5,1000,2,1,1]])\n",
    "prediction=rf_regressor.predict(features)[0]\n",
    "print(prediction)"
   ]
  },
  {
   "cell_type": "markdown",
   "id": "968ef7e0",
   "metadata": {},
   "source": [
    "LINEAR REGRESSION"
   ]
  },
  {
   "cell_type": "code",
   "execution_count": 155,
   "id": "12bec439",
   "metadata": {},
   "outputs": [
    {
     "data": {
      "text/plain": [
       "LinearRegression()"
      ]
     },
     "execution_count": 155,
     "metadata": {},
     "output_type": "execute_result"
    }
   ],
   "source": [
    "lin_reg = LinearRegression()\n",
    "lin_reg.fit(X_train,y_train)"
   ]
  },
  {
   "cell_type": "code",
   "execution_count": 156,
   "id": "26d52592",
   "metadata": {},
   "outputs": [],
   "source": [
    "#then we go for prediction and calculate the metrics\n",
    "y_pred = lin_reg.predict(X_test)"
   ]
  },
  {
   "cell_type": "code",
   "execution_count": 71,
   "id": "03cdf168",
   "metadata": {},
   "outputs": [
    {
     "name": "stdout",
     "output_type": "stream",
     "text": [
      "Mean Absolute Error: 21.729000128135894\n",
      "Mean Squared Error: 822.3818968139369\n",
      "RootMean Squared Error: 28.67720169078456\n"
     ]
    }
   ],
   "source": [
    "from sklearn import metrics\n",
    "print(\"Mean Absolute Error:\",metrics.mean_absolute_error(y_pred,y_test))\n",
    "print(\"Mean Squared Error:\",metrics.mean_squared_error(y_pred,y_test))\n",
    "print(\"RootMean Squared Error:\",np.sqrt(metrics.mean_squared_error(y_pred,y_test)))"
   ]
  },
  {
   "cell_type": "code",
   "execution_count": 162,
   "id": "a9320a89",
   "metadata": {},
   "outputs": [
    {
     "name": "stdout",
     "output_type": "stream",
     "text": [
      "58.231490797585025\n"
     ]
    },
    {
     "name": "stderr",
     "output_type": "stream",
     "text": [
      "C:\\Users\\Lenovo\\anaconda3\\lib\\site-packages\\sklearn\\base.py:450: UserWarning: X does not have valid feature names, but LinearRegression was fitted with feature names\n",
      "  warnings.warn(\n"
     ]
    }
   ],
   "source": [
    "features = np.array([[3,1,5,1780,2,1,5]])\n",
    "prediction=lin_reg.predict(features)[0]\n",
    "print(prediction)"
   ]
  },
  {
   "cell_type": "code",
   "execution_count": 72,
   "id": "931f2a35",
   "metadata": {},
   "outputs": [
    {
     "name": "stdout",
     "output_type": "stream",
     "text": [
      "55.10904202167095\n"
     ]
    }
   ],
   "source": [
    "#r-squared value\n",
    "from sklearn.metrics import r2_score\n",
    "print(r2_score(y_test,y_pred)*100)"
   ]
  },
  {
   "cell_type": "code",
   "execution_count": 73,
   "id": "27f9b5b5",
   "metadata": {},
   "outputs": [
    {
     "data": {
      "text/plain": [
       "55.5"
      ]
     },
     "execution_count": 73,
     "metadata": {},
     "output_type": "execute_result"
    }
   ],
   "source": [
    "#Go for prediction by passing our input\n",
    "X.iloc[0];y[0]"
   ]
  },
  {
   "cell_type": "code",
   "execution_count": 130,
   "id": "34793770",
   "metadata": {},
   "outputs": [],
   "source": [
    "features = np.array([[3,1,5,1780,2,1,5]])\n",
    "prediction=regressor.predict(features)[0]"
   ]
  },
  {
   "cell_type": "code",
   "execution_count": 131,
   "id": "6bd8a14a",
   "metadata": {},
   "outputs": [
    {
     "data": {
      "text/plain": [
       "110.0"
      ]
     },
     "execution_count": 131,
     "metadata": {},
     "output_type": "execute_result"
    }
   ],
   "source": [
    "prediction"
   ]
  },
  {
   "cell_type": "markdown",
   "id": "cb097581",
   "metadata": {},
   "source": [
    "KNN REGRESSOR"
   ]
  },
  {
   "cell_type": "code",
   "execution_count": 88,
   "id": "8f2bfe1b",
   "metadata": {},
   "outputs": [
    {
     "data": {
      "text/plain": [
       "KNeighborsRegressor()"
      ]
     },
     "execution_count": 88,
     "metadata": {},
     "output_type": "execute_result"
    }
   ],
   "source": [
    "from sklearn.neighbors import KNeighborsRegressor\n",
    "regressor = KNeighborsRegressor(n_neighbors=5)\n",
    "regressor.fit(X_train, y_train)"
   ]
  },
  {
   "cell_type": "code",
   "execution_count": 89,
   "id": "2fabc847",
   "metadata": {},
   "outputs": [],
   "source": [
    "y_pred = regressor.predict(X_test)"
   ]
  },
  {
   "cell_type": "code",
   "execution_count": 90,
   "id": "f314bab5",
   "metadata": {},
   "outputs": [
    {
     "name": "stdout",
     "output_type": "stream",
     "text": [
      "mae: 0.03272727272727274\n",
      "mse: 0.10545454545454537\n",
      "rmse: 0.32473765635439533\n"
     ]
    }
   ],
   "source": [
    "from sklearn.metrics import mean_absolute_error, mean_squared_error\n",
    "\n",
    "mae = mean_absolute_error(y_test, y_pred)\n",
    "mse = mean_squared_error(y_test, y_pred)\n",
    "rmse = mean_squared_error(y_test, y_pred, squared=False)\n",
    "\n",
    "print(f'mae: {mae}')\n",
    "print(f'mse: {mse}')\n",
    "print(f'rmse: {rmse}')"
   ]
  },
  {
   "cell_type": "code",
   "execution_count": 91,
   "id": "5548d959",
   "metadata": {},
   "outputs": [
    {
     "data": {
      "text/plain": [
       "0.9999424360435588"
      ]
     },
     "execution_count": 91,
     "metadata": {},
     "output_type": "execute_result"
    }
   ],
   "source": [
    "regressor.score(X_test, y_test)"
   ]
  },
  {
   "cell_type": "code",
   "execution_count": 122,
   "id": "55845c2c",
   "metadata": {},
   "outputs": [
    {
     "data": {
      "text/plain": [
       "48.0"
      ]
     },
     "execution_count": 122,
     "metadata": {},
     "output_type": "execute_result"
    }
   ],
   "source": [
    "X.iloc[1];y[1]"
   ]
  },
  {
   "cell_type": "code",
   "execution_count": 123,
   "id": "b1475b6b",
   "metadata": {},
   "outputs": [
    {
     "data": {
      "text/plain": [
       "20.0"
      ]
     },
     "execution_count": 123,
     "metadata": {},
     "output_type": "execute_result"
    }
   ],
   "source": [
    "X.iloc[1095];y[1095]"
   ]
  },
  {
   "cell_type": "code",
   "execution_count": 126,
   "id": "96fee194",
   "metadata": {},
   "outputs": [],
   "source": [
    "features = np.array([[3,2,5,1000,2,1,1]])\n",
    "prediction=regressor.predict(features)[0]"
   ]
  },
  {
   "cell_type": "code",
   "execution_count": 127,
   "id": "8f26cecc",
   "metadata": {},
   "outputs": [
    {
     "name": "stdout",
     "output_type": "stream",
     "text": [
      "110.0\n"
     ]
    }
   ],
   "source": [
    "print(prediction)"
   ]
  },
  {
   "cell_type": "code",
   "execution_count": 22,
   "id": "0c41459d",
   "metadata": {},
   "outputs": [],
   "source": [
    "#once we are confident enough to test the model in production-ready environment\n",
    "#will save the models using pickle\n",
    "import pickle"
   ]
  },
  {
   "cell_type": "code",
   "execution_count": 24,
   "id": "8c78d405",
   "metadata": {},
   "outputs": [],
   "source": [
    "#we will create pickle files for both regression model and scaling model\n",
    "#open() is generally used for file modes\n",
    "#wb=write binary  format \n",
    "pickle.dump(rf_regressor,open('HOUSE.pkl','wb')) "
   ]
  },
  {
   "cell_type": "code",
   "execution_count": 110,
   "id": "0bd0dc44",
   "metadata": {},
   "outputs": [],
   "source": [
    "#now let,s give some validation data and test on pickle files\n",
    "pickled_model = pickle.load(open('HOUSE.pkl','rb'))"
   ]
  },
  {
   "cell_type": "code",
   "execution_count": null,
   "id": "684f692b",
   "metadata": {},
   "outputs": [],
   "source": []
  }
 ],
 "metadata": {
  "kernelspec": {
   "display_name": "Python 3 (ipykernel)",
   "language": "python",
   "name": "python3"
  },
  "language_info": {
   "codemirror_mode": {
    "name": "ipython",
    "version": 3
   },
   "file_extension": ".py",
   "mimetype": "text/x-python",
   "name": "python",
   "nbconvert_exporter": "python",
   "pygments_lexer": "ipython3",
   "version": "3.9.12"
  }
 },
 "nbformat": 4,
 "nbformat_minor": 5
}
